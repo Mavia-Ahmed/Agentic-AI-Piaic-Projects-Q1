{
  "nbformat": 4,
  "nbformat_minor": 0,
  "metadata": {
    "colab": {
      "provenance": [],
      "gpuType": "T4"
    },
    "kernelspec": {
      "name": "python3",
      "display_name": "Python 3"
    },
    "language_info": {
      "name": "python"
    },
    "accelerator": "GPU"
  },
  "cells": [
    {
      "cell_type": "markdown",
      "source": [
        "# **Problem Statement**"
      ],
      "metadata": {
        "id": "OZiKDbSMMX08"
      }
    },
    {
      "cell_type": "markdown",
      "source": [
        "Write a program that asks a user to enter a number. Your program will then double that number and print out the result. It will repeat that process until the value is 100 or greater.\n",
        "\n",
        "For example if the user enters the number 2 you would then print:\n",
        "\n",
        "4 8 16 32 64 128\n",
        "\n",
        "Note that:\n",
        "\n",
        "2 doubled is 4\n",
        "\n",
        "4 doubled is 8\n",
        "\n",
        "8 doubled is 16\n",
        "\n",
        "and so on.\n",
        "\n",
        "We stop at 128 because that value is greater than 100."
      ],
      "metadata": {
        "id": "_LjNmSYsMdCD"
      }
    },
    {
      "cell_type": "code",
      "execution_count": 1,
      "metadata": {
        "colab": {
          "base_uri": "https://localhost:8080/"
        },
        "id": "8VevIvmmLrX6",
        "outputId": "f6a14768-8a93-4515-b49b-df02a06b7c28"
      },
      "outputs": [
        {
          "output_type": "stream",
          "name": "stdout",
          "text": [
            "Enter a Number: 48\n",
            "96 192 "
          ]
        }
      ],
      "source": [
        "def double_it():\n",
        "  #1. Get user input and type cast\n",
        "  user_input = int(input(\"Enter a Number: \"))\n",
        "\n",
        "  #2. Loop: while & for\n",
        "  while user_input <= 100:\n",
        "    user_input *= 2\n",
        "    print(user_input, end=\" \")\n",
        "\n",
        "double_it()"
      ]
    }
  ]
}