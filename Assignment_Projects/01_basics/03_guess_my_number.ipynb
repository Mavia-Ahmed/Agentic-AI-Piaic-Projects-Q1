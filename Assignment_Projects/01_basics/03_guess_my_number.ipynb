{
  "nbformat": 4,
  "nbformat_minor": 0,
  "metadata": {
    "colab": {
      "provenance": [],
      "gpuType": "T4"
    },
    "kernelspec": {
      "name": "python3",
      "display_name": "Python 3"
    },
    "language_info": {
      "name": "python"
    },
    "accelerator": "GPU"
  },
  "cells": [
    {
      "cell_type": "markdown",
      "source": [
        "# **Problem Statement**"
      ],
      "metadata": {
        "id": "-AyefdZGO4aL"
      }
    },
    {
      "cell_type": "markdown",
      "source": [
        "Guess My Number\n",
        "\n",
        "I am thinking of a number between 0 and 99... Enter a guess: 50 Your guess is too high\n",
        "\n",
        "Enter a new number: 25 Your guess is too low\n",
        "\n",
        "Enter a new number: 40 Your guess is too low\n",
        "\n",
        "Enter a new number: 45 Your guess is too low\n",
        "\n",
        "Enter a new number: 48 Congrats! The number was: 48"
      ],
      "metadata": {
        "id": "rTZ6-aDzPA2W"
      }
    },
    {
      "cell_type": "code",
      "execution_count": 1,
      "metadata": {
        "colab": {
          "base_uri": "https://localhost:8080/"
        },
        "id": "9amEQzISOlLg",
        "outputId": "7a28b100-ee89-484e-bc5f-ac709ba8fb03"
      },
      "outputs": [
        {
          "output_type": "stream",
          "name": "stdout",
          "text": [
            "Attempts left: 5\n",
            "Enter a Number between 0 - 100: 59\n",
            "Your guess is too high\n",
            "Attempts left: 4\n",
            "Enter a Number between 0 - 100: 49\n",
            "Your guess is too high\n",
            "Attempts left: 3\n",
            "Enter a Number between 0 - 100: 39\n",
            "Your guess is too high\n",
            "Attempts left: 2\n",
            "Enter a Number between 0 - 100: 19\n",
            "Your guess is too high\n",
            "Attempts left: 1\n",
            "Enter a Number between 0 - 100: 9\n",
            "Your guess is too high\n",
            "Attempts left: 0\n",
            "Game Over\n"
          ]
        }
      ],
      "source": [
        "from random import randint\n",
        "\n",
        "random_generate_num: int = randint(1, 5)\n",
        "\n",
        "allowed_attempts: int = 5\n",
        "\n",
        "user_attempt: int = 0\n",
        "\n",
        "while True:\n",
        "  print(f'Attempts left: {allowed_attempts - user_attempt}')\n",
        "\n",
        "  if(user_attempt == allowed_attempts):\n",
        "    print('Game Over')\n",
        "    break\n",
        "\n",
        "  user_input: int = int(input('Enter a Number between 0 - 100: '))\n",
        "  user_attempt += 1\n",
        "\n",
        "  if user_input > random_generate_num:\n",
        "    print('Your guess is too high')\n",
        "  elif user_input < random_generate_num:\n",
        "    print('Your guess is too low')\n",
        "  else:\n",
        "    print('Invalid Input')"
      ]
    }
  ]
}