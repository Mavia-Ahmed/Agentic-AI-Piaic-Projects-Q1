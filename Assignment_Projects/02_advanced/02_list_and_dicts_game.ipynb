{
  "nbformat": 4,
  "nbformat_minor": 0,
  "metadata": {
    "colab": {
      "provenance": [],
      "gpuType": "T4"
    },
    "kernelspec": {
      "name": "python3",
      "display_name": "Python 3"
    },
    "language_info": {
      "name": "python"
    },
    "accelerator": "GPU"
  },
  "cells": [
    {
      "cell_type": "markdown",
      "source": [
        "# **Problem Statement**"
      ],
      "metadata": {
        "id": "twKxzEW-b_EY"
      }
    },
    {
      "cell_type": "markdown",
      "source": [
        "**Problem #1:** List Practice Now practice writing code with lists! Implement the functionality described in the comments below.\n",
        "\n",
        "def main(): # Create a list called fruit_list that contains the following fruits: # 'apple', 'banana', 'orange', 'grape', 'pineapple'.\n",
        "\n",
        "**Problem #2:** Index Game As a warmup, read this code and play the game a few times. Use this mental model of the list:\n",
        "\n",
        "Objective: Create a Python program that helps you practice accessing and manipulating elements in a list. This exercise will help you get comfortable with indexing, slicing, and modifying list elements.\n",
        "\n",
        "Instructions: Initialize a List: Create a list with at least 5 different elements. They can be numbers, strings, or a mix of both.\n",
        "\n",
        "Accessing Elements: Write a function that:\n",
        "\n",
        "Accepts a list and an index as inputs. Returns the element at the specified index. If the index is out of range, return an appropriate message. Modifying Elements: Write a function that:\n",
        "\n",
        "Accepts a list, an index, and a new value as inputs. Replaces the element at the specified index with the new value. If the index is out of range, return an appropriate message. Slicing the List: Write a function that:\n",
        "\n",
        "Accepts a list, a start index, and an end index as inputs. Returns a new list containing the elements from the start index up to (but not including) the end index. Handles cases where the indices are out of range. Game Interaction: Create a simple text-based game that:\n",
        "\n",
        "Prompts the user to select an operation (access, modify, slice). Asks for the necessary inputs (index, new value, etc.). Displays the result and the updated list"
      ],
      "metadata": {
        "id": "YTj29EnbcV7p"
      }
    },
    {
      "cell_type": "code",
      "execution_count": 1,
      "metadata": {
        "id": "Hxcz0gmQbup2"
      },
      "outputs": [],
      "source": [
        "def main():\n",
        "    # Problem #1: Create a list called fruit_list\n",
        "    fruit_list = ['apple', 'banana', 'orange', 'grape', 'pineapple']\n",
        "    print(\"Initial fruit list:\", fruit_list)\n",
        "\n",
        "    # Problem #2: Accessing, modifying, and slicing elements in a list\n",
        "    play_index_game(fruit_list)\n",
        "\n",
        "\n",
        "# Function to access an element at a given index\n",
        "def access_element(lst, index):\n",
        "    if 0 <= index < len(lst):\n",
        "        return f\"Element at index {index}: {lst[index]}\"\n",
        "    else:\n",
        "        return \"Index out of range.\"\n",
        "\n",
        "\n",
        "# Function to modify an element at a given index\n",
        "def modify_element(lst, index, new_value):\n",
        "    if 0 <= index < len(lst):\n",
        "        old_value = lst[index]\n",
        "        lst[index] = new_value\n",
        "        return f\"Replaced '{old_value}' with '{new_value}' at index {index}.\"\n",
        "    else:\n",
        "        return \"Index out of range.\"\n",
        "\n",
        "\n",
        "# Function to slice the list between start and end indices\n",
        "def slice_list(lst, start, end):\n",
        "    if 0 <= start < len(lst) and 0 <= end <= len(lst) and start < end:\n",
        "        sliced = lst[start:end]\n",
        "        return f\"Sliced list from index {start} to {end} (exclusive): {sliced}\"\n",
        "    else:\n",
        "        return \"Invalid range for slicing.\"\n",
        "\n",
        "\n",
        "# Game function to interact with the user\n",
        "def play_index_game(lst):\n",
        "    print(\"\\nWelcome to the Index Game! Choose an option to interact with the list.\")\n",
        "\n",
        "    while True:\n",
        "        print(\"\\nOptions:\")\n",
        "        print(\"1 - Access an element\")\n",
        "        print(\"2 - Modify an element\")\n",
        "        print(\"3 - Slice the list\")\n",
        "        print(\"4 - Quit\")\n",
        "\n",
        "        choice = input(\"Choose an option (1-4): \")\n",
        "\n",
        "        if choice == '1':\n",
        "            # Accessing an element\n",
        "            try:\n",
        "                index = int(input(\"Enter an index to access: \"))\n",
        "                print(access_element(lst, index))\n",
        "            except ValueError:\n",
        "                print(\"Invalid input! Please enter a number.\")\n",
        "\n",
        "        elif choice == '2':\n",
        "            # Modifying an element\n",
        "            try:\n",
        "                index = int(input(\"Enter an index to modify: \"))\n",
        "                new_value = input(\"Enter the new value: \")\n",
        "                print(modify_element(lst, index, new_value))\n",
        "            except ValueError:\n",
        "                print(\"Invalid input! Please enter a valid index.\")\n",
        "\n",
        "        elif choice == '3':\n",
        "            # Slicing the list\n",
        "            try:\n",
        "                start = int(input(\"Enter the start index for slicing: \"))\n",
        "                end = int(input(\"Enter the end index for slicing: \"))\n",
        "                print(slice_list(lst, start, end))\n",
        "            except ValueError:\n",
        "                print(\"Invalid input! Please enter numbers for indices.\")\n",
        "\n",
        "        elif choice == '4':\n",
        "            # Quit the game\n",
        "            print(\"Thanks for playing! Final list:\", lst)\n",
        "            break\n",
        "        else:\n",
        "            print(\"Invalid option! Please select a number from 1 to 4.\")"
      ]
    },
    {
      "cell_type": "code",
      "source": [
        "# Run the main function to start the program\n",
        "main()\n"
      ],
      "metadata": {
        "colab": {
          "base_uri": "https://localhost:8080/"
        },
        "id": "CVLkf9WOdPHz",
        "outputId": "fe010cb1-6dd7-4887-f13e-e2219311e38b"
      },
      "execution_count": 2,
      "outputs": [
        {
          "output_type": "stream",
          "name": "stdout",
          "text": [
            "Initial fruit list: ['apple', 'banana', 'orange', 'grape', 'pineapple']\n",
            "\n",
            "Welcome to the Index Game! Choose an option to interact with the list.\n",
            "\n",
            "Options:\n",
            "1 - Access an element\n",
            "2 - Modify an element\n",
            "3 - Slice the list\n",
            "4 - Quit\n",
            "Choose an option (1-4): 1\n",
            "Enter an index to access: 2\n",
            "Element at index 2: orange\n",
            "\n",
            "Options:\n",
            "1 - Access an element\n",
            "2 - Modify an element\n",
            "3 - Slice the list\n",
            "4 - Quit\n",
            "Choose an option (1-4): 2\n",
            "Enter an index to modify: 2\n",
            "Enter the new value: peach\n",
            "Replaced 'orange' with 'peach' at index 2.\n",
            "\n",
            "Options:\n",
            "1 - Access an element\n",
            "2 - Modify an element\n",
            "3 - Slice the list\n",
            "4 - Quit\n",
            "Choose an option (1-4): 1\n",
            "Enter an index to access: 2\n",
            "Element at index 2: peach\n",
            "\n",
            "Options:\n",
            "1 - Access an element\n",
            "2 - Modify an element\n",
            "3 - Slice the list\n",
            "4 - Quit\n",
            "Choose an option (1-4): 3\n",
            "Enter the start index for slicing: 3\n",
            "Enter the end index for slicing: 4\n",
            "Sliced list from index 3 to 4 (exclusive): ['grape']\n",
            "\n",
            "Options:\n",
            "1 - Access an element\n",
            "2 - Modify an element\n",
            "3 - Slice the list\n",
            "4 - Quit\n",
            "Choose an option (1-4): 4\n",
            "Thanks for playing! Final list: ['apple', 'banana', 'peach', 'grape', 'pineapple']\n"
          ]
        }
      ]
    }
  ]
}