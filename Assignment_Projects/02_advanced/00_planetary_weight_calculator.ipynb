{
  "nbformat": 4,
  "nbformat_minor": 0,
  "metadata": {
    "colab": {
      "provenance": [],
      "gpuType": "T4"
    },
    "kernelspec": {
      "name": "python3",
      "display_name": "Python 3"
    },
    "language_info": {
      "name": "python"
    },
    "accelerator": "GPU"
  },
  "cells": [
    {
      "cell_type": "markdown",
      "source": [
        "# **Problem Statement**"
      ],
      "metadata": {
        "id": "_tv6xnn4YW7M"
      }
    },
    {
      "cell_type": "markdown",
      "source": [
        "A few years ago, NASA made history with the first controlled flight on another planet. Its latest Mars Rover, Perseverance, has onboard a 50cm high helicopter called Ingenuity. Ingenuity made its third flight, during which it flew faster and further than it had on any of its test flights on Earth. Interestingly, Ingenuity uses Python for some of its flight modeling software!\n",
        "\n",
        "Ingenuity on the surface of Mars (source: NASA)\n",
        "\n",
        "When programming Ingenuity, one of the things that NASA engineers need to account for is the fact that due to the weaker gravity on Mars, an Earthling's weight on Mars is 37.8% of their weight on Earth. Write a Python program that prompts an Earthling to enter their weight on Earth and prints their calculated weight on Mars.\n",
        "\n",
        "The output should be rounded to two decimal places when necessary. Python has a round function which can help you with this. You pass in the value to be rounded and the number of decimal places to use. In the example below, the number 3.1415926 is rounded to 2 decimal places which is 3.14."
      ],
      "metadata": {
        "id": "f8yt5uSPYm3p"
      }
    },
    {
      "cell_type": "code",
      "execution_count": 1,
      "metadata": {
        "id": "R6hDWQ2uSBIX"
      },
      "outputs": [],
      "source": [
        "# Creating a dictionary for adding Constants Values of planet weight\n",
        "gravity_constants = {\n",
        "    'Mercury': 0.376,\n",
        "    'Venus': 0.889,\n",
        "    'Mars': 0.378,\n",
        "    'Jupiter': 2.360,\n",
        "    'Saturn': 1.081,\n",
        "    'Neptune': 1.140,\n",
        "    'Uranus': 0.815,\n",
        "}\n",
        "\n",
        "\n",
        "#creating a function\n",
        "def calculate_weight_on_planet(earth_weight, planet):\n",
        "#using if else for if user inputs something invalid\n",
        "  if planet in gravity_constants:\n",
        "# formula for finding the weight\n",
        "    weight_on_planet = earth_weight * gravity_constants[planet]\n",
        "    return f'Your weight on {planet} is: {weight_on_planet:.2f}'\n",
        "  else:\n",
        "    return \"Invalid planet name\"\n",
        "\n",
        "def main():\n",
        "  while True:\n",
        "    try:\n",
        "      earth_weight = float(input('What is your weight on Earth? '))\n",
        "      break\n",
        "    except ValueError:\n",
        "      print('Invalid input. Please enter a number.')\n",
        "\n",
        "  planet = input('What planet do you want to check your weight on? ')\n",
        "\n",
        "  print(calculate_weight_on_planet(earth_weight, planet))"
      ]
    },
    {
      "cell_type": "code",
      "source": [
        "main()"
      ],
      "metadata": {
        "id": "Jf6CCV9td8VT",
        "colab": {
          "base_uri": "https://localhost:8080/"
        },
        "outputId": "d9083719-24de-463d-c29d-fb0186f46c16"
      },
      "execution_count": 3,
      "outputs": [
        {
          "output_type": "stream",
          "name": "stdout",
          "text": [
            "What is your weight on Earth? 84\n",
            "What planet do you want to check your weight on? Mars\n",
            "Your weight on Mars is: 31.75\n"
          ]
        }
      ]
    }
  ]
}