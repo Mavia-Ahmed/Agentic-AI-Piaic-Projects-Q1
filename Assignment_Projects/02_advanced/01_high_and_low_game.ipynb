{
  "nbformat": 4,
  "nbformat_minor": 0,
  "metadata": {
    "colab": {
      "provenance": [],
      "gpuType": "T4"
    },
    "kernelspec": {
      "name": "python3",
      "display_name": "Python 3"
    },
    "language_info": {
      "name": "python"
    },
    "accelerator": "GPU"
  },
  "cells": [
    {
      "cell_type": "markdown",
      "source": [
        "# **Problem Statement**"
      ],
      "metadata": {
        "id": "nDVheRoeZ53n"
      }
    },
    {
      "cell_type": "markdown",
      "source": [
        "We want you to gain more experience working with control flow and Booleans in Python. To do this, we are going to have you develop a game! The game is called High-Low and the way it's played goes as follows:\n",
        "\n",
        "Two numbers are generated from 1 to 100 (inclusive on both ends): one for you and one for a computer, who will be your opponent. You can see your number, but not the computer's!\n",
        "\n",
        "You make a guess, saying your number is either higher than or lower than the computer's number\n",
        "\n",
        "If your guess matches the truth (ex. you guess your number is higher, and then your number is actually higher than the computer's), you get a point!\n",
        "\n",
        "These steps make up one round of the game. The game is over after all rounds have been played"
      ],
      "metadata": {
        "id": "9p7VC0SBaf6k"
      }
    },
    {
      "cell_type": "code",
      "execution_count": 1,
      "metadata": {
        "colab": {
          "base_uri": "https://localhost:8080/"
        },
        "id": "8JPVlTwVZvpV",
        "outputId": "9626d4b4-2fe8-4dea-e9a2-9f45a5558602"
      },
      "outputs": [
        {
          "output_type": "stream",
          "name": "stdout",
          "text": [
            "Welcome to the High-Low Game!\n",
            "Guess if your number is higher or lower than the computer's number.\n",
            "\n",
            "Round 1\n",
            "Your number is: 33\n",
            "Do you think your number is 'higher' or 'lower' than the computer's number? lower\n",
            "Correct guess! You get a point.\n",
            "The computer's number was: 52\n",
            "Your score is now 1.\n",
            "\n",
            "\n",
            "Round 2\n",
            "Your number is: 53\n",
            "Do you think your number is 'higher' or 'lower' than the computer's number? lower\n",
            "Correct guess! You get a point.\n",
            "The computer's number was: 77\n",
            "Your score is now 2.\n",
            "\n",
            "\n",
            "Round 3\n",
            "Your number is: 26\n",
            "Do you think your number is 'higher' or 'lower' than the computer's number? lower\n",
            "Correct guess! You get a point.\n",
            "The computer's number was: 31\n",
            "Your score is now 3.\n",
            "\n",
            "\n",
            "Game Over!\n",
            "Your final score is: 3 out of 3.\n",
            "Wow! You played perfectly!\n"
          ]
        }
      ],
      "source": [
        "import random\n",
        "\n",
        "# Constant to define the number of rounds\n",
        "NUM_ROUNDS = 3\n",
        "\n",
        "def high_low_game():\n",
        "    player_score = 0\n",
        "\n",
        "    print(\"Welcome to the High-Low Game!\")\n",
        "    print(\"Guess if your number is higher or lower than the computer's number.\")\n",
        "\n",
        "    for round_num in range(1, NUM_ROUNDS + 1):\n",
        "        print(f\"\\nRound {round_num}\")\n",
        "\n",
        "        # Milestone #1: Generate random numbers for the player and the computer\n",
        "        player_number = random.randint(1, 100)\n",
        "        computer_number = random.randint(1, 100)\n",
        "\n",
        "        # Display the player's number and remove the print of computer's number\n",
        "        print(f\"Your number is: {player_number}\")\n",
        "\n",
        "        # Milestone #2: Get user input and safeguard input with extension #1\n",
        "        while True:\n",
        "            guess = input(\"Do you think your number is 'higher' or 'lower' than the computer's number? \").strip().lower()\n",
        "            if guess in ['higher', 'lower']:\n",
        "                break\n",
        "            else:\n",
        "                print(\"Invalid input! Please type 'higher' or 'lower'.\")\n",
        "\n",
        "        # Milestone #3: Check the game logic to determine if the player won\n",
        "        if player_number == computer_number:\n",
        "            print(\"The computer wins this round because the numbers are the same.\")\n",
        "        elif (guess == 'higher' and player_number > computer_number) or (guess == 'lower' and player_number < computer_number):\n",
        "            print(\"Correct guess! You get a point.\")\n",
        "            player_score += 1\n",
        "        else:\n",
        "            print(\"Incorrect guess. No points this round.\")\n",
        "\n",
        "        # Display the computer's number after each round\n",
        "        print(f\"The computer's number was: {computer_number}\")\n",
        "\n",
        "        # Milestone #5: Print the player's score after each round\n",
        "        print(f\"Your score is now {player_score}.\\n\")\n",
        "\n",
        "    # Milestone #4: After all rounds, print the final score with a conditional ending message\n",
        "    print(\"\\nGame Over!\")\n",
        "    print(f\"Your final score is: {player_score} out of {NUM_ROUNDS}.\")\n",
        "\n",
        "    # Extension #2: Conditional ending messages based on the player's performance\n",
        "    if player_score == NUM_ROUNDS:\n",
        "        print(\"Wow! You played perfectly!\")\n",
        "    elif player_score >= NUM_ROUNDS // 2:\n",
        "        print(\"Good job, you played really well!\")\n",
        "    else:\n",
        "        print(\"Better luck next time!\")\n",
        "\n",
        "# Start the game\n",
        "high_low_game()"
      ]
    }
  ]
}