{
  "nbformat": 4,
  "nbformat_minor": 0,
  "metadata": {
    "colab": {
      "provenance": [],
      "gpuType": "T4"
    },
    "kernelspec": {
      "name": "python3",
      "display_name": "Python 3"
    },
    "language_info": {
      "name": "python"
    },
    "accelerator": "GPU"
  },
  "cells": [
    {
      "cell_type": "markdown",
      "source": [
        "# **Problem Statement**"
      ],
      "metadata": {
        "id": "4eLIKNWeP64I"
      }
    },
    {
      "cell_type": "markdown",
      "source": [
        "Print 10 random numbers in the range 1 to 100.\n",
        "\n",
        "Here is an example run:\n",
        "\n",
        "45 79 61 47 52 10 16 83 19 12\n",
        "\n",
        "Each time you run your program you should get different numbers\n",
        "\n",
        "81 76 70 1 27 63 96 100 32 92\n",
        "\n",
        "Recall that the python random library has a function randint which returns an integer in the range set by the parameters (inclusive). For example this call would produce a random integer between 1 and 6, which could include 1 and could include 6:\n",
        "\n",
        "value = random.randint(1, 6)"
      ],
      "metadata": {
        "id": "qG7LKyJaQRHQ"
      }
    },
    {
      "cell_type": "code",
      "execution_count": 2,
      "metadata": {
        "colab": {
          "base_uri": "https://localhost:8080/"
        },
        "id": "4b8luwl9P5kg",
        "outputId": "21a85efb-d2d8-433b-a8e7-f73200d7c426"
      },
      "outputs": [
        {
          "output_type": "stream",
          "name": "stdout",
          "text": [
            "19 59 87 24 11 44 5 51 92 58\n"
          ]
        }
      ],
      "source": [
        "MIN_NUMBER: int = 1\n",
        "MAX_NUMBER: int = 101\n",
        "N_RANDOM_NUMBERS: int = 10\n",
        "\n",
        "import numpy as np\n",
        "\n",
        "number_list = np.random.randint(MIN_NUMBER, MAX_NUMBER, N_RANDOM_NUMBERS)\n",
        "\n",
        "print(*number_list)"
      ]
    }
  ]
}