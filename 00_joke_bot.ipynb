{
  "nbformat": 4,
  "nbformat_minor": 0,
  "metadata": {
    "colab": {
      "provenance": [],
      "gpuType": "T4",
      "authorship_tag": "ABX9TyNhGps3QqxvNbV2IRVhIf5I",
      "include_colab_link": true
    },
    "kernelspec": {
      "name": "python3",
      "display_name": "Python 3"
    },
    "language_info": {
      "name": "python"
    },
    "accelerator": "GPU"
  },
  "cells": [
    {
      "cell_type": "markdown",
      "metadata": {
        "id": "view-in-github",
        "colab_type": "text"
      },
      "source": [
        "<a href=\"https://colab.research.google.com/github/Mavia-Ahmed/Agentic-AI-Piaic-Projects-Q1/blob/main/00_joke_bot.ipynb\" target=\"_parent\"><img src=\"https://colab.research.google.com/assets/colab-badge.svg\" alt=\"Open In Colab\"/></a>"
      ]
    },
    {
      "cell_type": "markdown",
      "source": [
        "# **Problem Statement**\n"
      ],
      "metadata": {
        "id": "3_MWCAIFA9Ib"
      }
    },
    {
      "cell_type": "markdown",
      "source": [
        "Write a simple joke bot. The bot starts by asking the user what they want. However, your program will only respond to one response: Joke.\n",
        "\n",
        "If the user enters Joke then we will print out a single joke. Each time the joke is always the same:\n",
        "\n",
        "Here is a joke for you! Panaversity GPT - Why did the scarecrow win an award? Because he was outstanding in his field!\n",
        "\n",
        "If the user enters anything else we print out:\n",
        "\n",
        "Sorry I only tell jokes\n",
        "\n",
        "You should use the three constants:\n",
        "\n",
        "PROMPT JOKE SORRY\n",
        "\n",
        "which contain the strings for the prompt asked to the user, the joke to print out if the user enters Joke and the sorry message if the user enters anything else."
      ],
      "metadata": {
        "id": "uNv-a-8IBKoF"
      }
    },
    {
      "cell_type": "code",
      "execution_count": null,
      "metadata": {
        "colab": {
          "base_uri": "https://localhost:8080/"
        },
        "id": "XxInr7L2ArMZ",
        "outputId": "2e4737ba-14e2-4600-f5b5-62fcbff847ba"
      },
      "outputs": [
        {
          "output_type": "stream",
          "name": "stdout",
          "text": [
            "What would you like to do?joke\n",
            "joke\n",
            "Why did the scarecrow win an award? Because he was outstanding in his field!\n"
          ]
        }
      ],
      "source": [
        "## Creating Constants\n",
        "PROMPT: str = \"What would you like to do?\"\n",
        "JOKE: str = \"Why did the scarecrow win an award? Because he was outstanding in his field!\"\n",
        "\n",
        "#Defining a function\n",
        "def joke_bot():\n",
        "  #1. Get user Input\n",
        "  user_input = input(PROMPT)\n",
        "  print(user_input)\n",
        "\n",
        "  #2. if else statements\n",
        "  # Case ?? Joke joke\n",
        "  if user_input.lower() == \"joke\":\n",
        "    print(JOKE)\n",
        "  else:\n",
        "    print(\"Sorry, I only tell jokes\")\n",
        "\n",
        "joke_bot()"
      ]
    }
  ]
}